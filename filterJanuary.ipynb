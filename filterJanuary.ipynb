{
 "cells": [
  {
   "cell_type": "code",
   "execution_count": 1,
   "metadata": {
    "collapsed": true
   },
   "outputs": [],
   "source": [
    "import pandas as pd\n",
    "import numpy as np\n",
    "from datetime import datetime\n",
    "import time "
   ]
  },
  {
   "cell_type": "code",
   "execution_count": 2,
   "metadata": {
    "collapsed": false
   },
   "outputs": [
    {
     "data": {
      "text/plain": [
       "'C:\\\\EPIC\\\\2016-Analysis'"
      ]
     },
     "execution_count": 2,
     "metadata": {},
     "output_type": "execute_result"
    }
   ],
   "source": [
    "pwd"
   ]
  },
  {
   "cell_type": "code",
   "execution_count": 3,
   "metadata": {
    "collapsed": true
   },
   "outputs": [],
   "source": [
    "file = 'c:\\EPIC\\EPIC -CEMS data/2016 csv files/2016Jan2016_1.csv'\n",
    "reportfile = '2016Januaryreport.csv'\n",
    "filterfile = 'filterJanuary2016.csv'"
   ]
  },
  {
   "cell_type": "code",
   "execution_count": 4,
   "metadata": {
    "collapsed": false
   },
   "outputs": [
    {
     "name": "stdout",
     "output_type": "stream",
     "text": [
      " Volume in drive C is Windows\n",
      " Volume Serial Number is 2275-89FB\n",
      "\n",
      " Directory of C:\\EPIC\\2016-analysis\n",
      "\n",
      "07/24/2017  01:02 PM    <DIR>          .\n",
      "07/24/2017  01:02 PM    <DIR>          ..\n",
      "07/24/2017  12:47 PM    <DIR>          .ipynb_checkpoints\n",
      "07/24/2017  01:01 PM            17,907 filterJanuary.ipynb\n",
      "07/24/2017  12:53 PM           276,507 p1 - January2016.ipynb\n",
      "               2 File(s)        294,414 bytes\n",
      "               3 Dir(s)  732,397,527,040 bytes free\n"
     ]
    }
   ],
   "source": [
    "ls"
   ]
  },
  {
   "cell_type": "code",
   "execution_count": 5,
   "metadata": {
    "collapsed": false
   },
   "outputs": [],
   "source": [
    "numlines=sum(1 for f in open(file,encoding='Latin'))"
   ]
  },
  {
   "cell_type": "code",
   "execution_count": 6,
   "metadata": {
    "collapsed": false
   },
   "outputs": [
    {
     "data": {
      "text/plain": [
       "27126798"
      ]
     },
     "execution_count": 6,
     "metadata": {},
     "output_type": "execute_result"
    }
   ],
   "source": [
    "numlines"
   ]
  },
  {
   "cell_type": "code",
   "execution_count": 7,
   "metadata": {
    "collapsed": false
   },
   "outputs": [],
   "source": [
    "def func(lines):\n",
    "    c=0\n",
    "    open_reportfile = True\n",
    "    n = lines/10000000\n",
    "    rem = lines % 10000000\n",
    "    s=['AAQ-1','AAQMS-1','AAQMS-2','AAQMS-3','AAQMS-4','AAQMS-5','AAQMS-6','AAQMS-7','aaq1','aaq2','aaq3','aaq4','water','water2','water3']\n",
    "    while(n>=0):\n",
    "        print('we are in loop ', c+1)\n",
    "        data=pd.read_csv(file,skiprows=10000000*c,nrows=10000000,names=[\"plant\",\"CEMS\",\"pollutant\",\"eventtime\",\"emission\"])\n",
    "        c=c+1\n",
    "        df1 = data[~data[\"CEMS\"].isin(s)]\n",
    "        df1 = df1.reset_index(drop=True)\n",
    "        with open(reportfile, 'a') as f:\n",
    "            df1.to_csv(f, header=False, index = False)\n",
    "        del df1\n",
    "        n=n-1\n",
    "    ##data=pd.read_csv(file,skiprows=10000000*c,nrows=rem,names=[\"plant\",\"CEMS\",\"pollutant\",\"eventtime\",\"emission\"])\n",
    "    ##df1 = data[~data[\"CEMS\"].isin(s)]\n",
    "    ##df1 = df1.reset_index(drop=True)\n",
    "    ##with open(reportfile, 'a') as f:\n",
    "    ##    df1.to_csv(f, header=False)\n",
    "    ##del df1"
   ]
  },
  {
   "cell_type": "code",
   "execution_count": 8,
   "metadata": {
    "collapsed": false
   },
   "outputs": [
    {
     "name": "stdout",
     "output_type": "stream",
     "text": [
      "we are in loop  1\n",
      "we are in loop  2\n",
      "we are in loop  3\n"
     ]
    }
   ],
   "source": [
    "func(numlines)"
   ]
  },
  {
   "cell_type": "code",
   "execution_count": 10,
   "metadata": {
    "collapsed": false
   },
   "outputs": [],
   "source": [
    "df = pd.read_csv(reportfile)"
   ]
  },
  {
   "cell_type": "code",
   "execution_count": 12,
   "metadata": {
    "collapsed": false
   },
   "outputs": [],
   "source": [
    "df.columns = ['company', 'station','pollutant','date_time','emission']"
   ]
  },
  {
   "cell_type": "code",
   "execution_count": 13,
   "metadata": {
    "collapsed": false
   },
   "outputs": [
    {
     "data": {
      "text/html": [
       "<div>\n",
       "<table border=\"1\" class=\"dataframe\">\n",
       "  <thead>\n",
       "    <tr style=\"text-align: right;\">\n",
       "      <th></th>\n",
       "      <th>company</th>\n",
       "      <th>station</th>\n",
       "      <th>pollutant</th>\n",
       "      <th>date_time</th>\n",
       "      <th>emission</th>\n",
       "    </tr>\n",
       "  </thead>\n",
       "  <tbody>\n",
       "    <tr>\n",
       "      <th>0</th>\n",
       "      <td>ACC Limited</td>\n",
       "      <td>stack1</td>\n",
       "      <td>SO2</td>\n",
       "      <td>2016-01-01 11:00:00</td>\n",
       "      <td>16.50</td>\n",
       "    </tr>\n",
       "    <tr>\n",
       "      <th>1</th>\n",
       "      <td>ACC Limited</td>\n",
       "      <td>stack1</td>\n",
       "      <td>NO</td>\n",
       "      <td>2016-01-01 11:00:00</td>\n",
       "      <td>641.41</td>\n",
       "    </tr>\n",
       "    <tr>\n",
       "      <th>2</th>\n",
       "      <td>ACC Limited</td>\n",
       "      <td>stack1</td>\n",
       "      <td>PM</td>\n",
       "      <td>2016-01-01 11:00:00</td>\n",
       "      <td>7.64</td>\n",
       "    </tr>\n",
       "    <tr>\n",
       "      <th>3</th>\n",
       "      <td>ACC Limited</td>\n",
       "      <td>CEMS-3</td>\n",
       "      <td>PM</td>\n",
       "      <td>2016-01-01 11:00:00</td>\n",
       "      <td>0.50</td>\n",
       "    </tr>\n",
       "    <tr>\n",
       "      <th>4</th>\n",
       "      <td>ACC Limited</td>\n",
       "      <td>CEMS-2</td>\n",
       "      <td>SO2</td>\n",
       "      <td>2016-01-01 11:00:00</td>\n",
       "      <td>44.30</td>\n",
       "    </tr>\n",
       "  </tbody>\n",
       "</table>\n",
       "</div>"
      ],
      "text/plain": [
       "       company station pollutant            date_time  emission\n",
       "0  ACC Limited  stack1       SO2  2016-01-01 11:00:00     16.50\n",
       "1  ACC Limited  stack1        NO  2016-01-01 11:00:00    641.41\n",
       "2  ACC Limited  stack1        PM  2016-01-01 11:00:00      7.64\n",
       "3  ACC Limited  CEMS-3        PM  2016-01-01 11:00:00      0.50\n",
       "4  ACC Limited  CEMS-2       SO2  2016-01-01 11:00:00     44.30"
      ]
     },
     "execution_count": 13,
     "metadata": {},
     "output_type": "execute_result"
    }
   ],
   "source": [
    "df.head()"
   ]
  },
  {
   "cell_type": "code",
   "execution_count": 14,
   "metadata": {
    "collapsed": true
   },
   "outputs": [],
   "source": [
    "dfNull = df[df.isnull().any(axis=1)]"
   ]
  },
  {
   "cell_type": "code",
   "execution_count": 15,
   "metadata": {
    "collapsed": false
   },
   "outputs": [
    {
     "name": "stdout",
     "output_type": "stream",
     "text": [
      "<class 'pandas.core.frame.DataFrame'>\n",
      "Int64Index: 0 entries\n",
      "Data columns (total 5 columns):\n",
      "company      0 non-null object\n",
      "station      0 non-null object\n",
      "pollutant    0 non-null object\n",
      "date_time    0 non-null object\n",
      "emission     0 non-null float64\n",
      "dtypes: float64(1), object(4)\n",
      "memory usage: 0.0+ bytes\n"
     ]
    }
   ],
   "source": [
    "dfNull.info()"
   ]
  },
  {
   "cell_type": "code",
   "execution_count": 16,
   "metadata": {
    "collapsed": false
   },
   "outputs": [],
   "source": [
    "df['emission'] = df.emission.astype('float32')"
   ]
  },
  {
   "cell_type": "code",
   "execution_count": 17,
   "metadata": {
    "collapsed": false
   },
   "outputs": [
    {
     "data": {
      "text/html": [
       "<div>\n",
       "<table border=\"1\" class=\"dataframe\">\n",
       "  <thead>\n",
       "    <tr style=\"text-align: right;\">\n",
       "      <th></th>\n",
       "      <th>company</th>\n",
       "      <th>station</th>\n",
       "      <th>pollutant</th>\n",
       "      <th>date_time</th>\n",
       "      <th>emission</th>\n",
       "    </tr>\n",
       "  </thead>\n",
       "  <tbody>\n",
       "    <tr>\n",
       "      <th>0</th>\n",
       "      <td>ACC Limited</td>\n",
       "      <td>stack1</td>\n",
       "      <td>SO2</td>\n",
       "      <td>2016-01-01 11:00:00</td>\n",
       "      <td>16.500000</td>\n",
       "    </tr>\n",
       "    <tr>\n",
       "      <th>1</th>\n",
       "      <td>ACC Limited</td>\n",
       "      <td>stack1</td>\n",
       "      <td>NO</td>\n",
       "      <td>2016-01-01 11:00:00</td>\n",
       "      <td>641.409973</td>\n",
       "    </tr>\n",
       "    <tr>\n",
       "      <th>2</th>\n",
       "      <td>ACC Limited</td>\n",
       "      <td>stack1</td>\n",
       "      <td>PM</td>\n",
       "      <td>2016-01-01 11:00:00</td>\n",
       "      <td>7.640000</td>\n",
       "    </tr>\n",
       "    <tr>\n",
       "      <th>3</th>\n",
       "      <td>ACC Limited</td>\n",
       "      <td>CEMS-3</td>\n",
       "      <td>PM</td>\n",
       "      <td>2016-01-01 11:00:00</td>\n",
       "      <td>0.500000</td>\n",
       "    </tr>\n",
       "    <tr>\n",
       "      <th>4</th>\n",
       "      <td>ACC Limited</td>\n",
       "      <td>CEMS-2</td>\n",
       "      <td>SO2</td>\n",
       "      <td>2016-01-01 11:00:00</td>\n",
       "      <td>44.299999</td>\n",
       "    </tr>\n",
       "  </tbody>\n",
       "</table>\n",
       "</div>"
      ],
      "text/plain": [
       "       company station pollutant            date_time    emission\n",
       "0  ACC Limited  stack1       SO2  2016-01-01 11:00:00   16.500000\n",
       "1  ACC Limited  stack1        NO  2016-01-01 11:00:00  641.409973\n",
       "2  ACC Limited  stack1        PM  2016-01-01 11:00:00    7.640000\n",
       "3  ACC Limited  CEMS-3        PM  2016-01-01 11:00:00    0.500000\n",
       "4  ACC Limited  CEMS-2       SO2  2016-01-01 11:00:00   44.299999"
      ]
     },
     "execution_count": 17,
     "metadata": {},
     "output_type": "execute_result"
    }
   ],
   "source": [
    "df.head()"
   ]
  },
  {
   "cell_type": "code",
   "execution_count": 18,
   "metadata": {
    "collapsed": false
   },
   "outputs": [
    {
     "data": {
      "text/plain": [
       "0"
      ]
     },
     "execution_count": 18,
     "metadata": {},
     "output_type": "execute_result"
    }
   ],
   "source": [
    "df.isnull().sum().sum()"
   ]
  },
  {
   "cell_type": "code",
   "execution_count": 33,
   "metadata": {
    "collapsed": true
   },
   "outputs": [],
   "source": [
    "##df.drop(\"index\", axis=1, inplace=True)"
   ]
  },
  {
   "cell_type": "code",
   "execution_count": 19,
   "metadata": {
    "collapsed": false
   },
   "outputs": [],
   "source": [
    "df['year'] = df['date_time'].apply(lambda x : x[0:4])"
   ]
  },
  {
   "cell_type": "code",
   "execution_count": 20,
   "metadata": {
    "collapsed": true
   },
   "outputs": [],
   "source": [
    "df['month'] = df['date_time'].apply(lambda x : x[5:7])\n",
    "df['date'] = df['date_time'].apply(lambda x : x[8:10])\n",
    "df['hour'] = df['date_time'].apply(lambda x : x[11:13])\n",
    "df['minute'] = df['date_time'].apply(lambda x : x[14:16])"
   ]
  },
  {
   "cell_type": "code",
   "execution_count": 21,
   "metadata": {
    "collapsed": false
   },
   "outputs": [
    {
     "data": {
      "text/html": [
       "<div>\n",
       "<table border=\"1\" class=\"dataframe\">\n",
       "  <thead>\n",
       "    <tr style=\"text-align: right;\">\n",
       "      <th></th>\n",
       "      <th>company</th>\n",
       "      <th>station</th>\n",
       "      <th>pollutant</th>\n",
       "      <th>date_time</th>\n",
       "      <th>emission</th>\n",
       "      <th>year</th>\n",
       "      <th>month</th>\n",
       "      <th>date</th>\n",
       "      <th>hour</th>\n",
       "      <th>minute</th>\n",
       "    </tr>\n",
       "  </thead>\n",
       "  <tbody>\n",
       "    <tr>\n",
       "      <th>0</th>\n",
       "      <td>ACC Limited</td>\n",
       "      <td>stack1</td>\n",
       "      <td>SO2</td>\n",
       "      <td>2016-01-01 11:00:00</td>\n",
       "      <td>16.500000</td>\n",
       "      <td>2016</td>\n",
       "      <td>01</td>\n",
       "      <td>01</td>\n",
       "      <td>11</td>\n",
       "      <td>00</td>\n",
       "    </tr>\n",
       "    <tr>\n",
       "      <th>1</th>\n",
       "      <td>ACC Limited</td>\n",
       "      <td>stack1</td>\n",
       "      <td>NO</td>\n",
       "      <td>2016-01-01 11:00:00</td>\n",
       "      <td>641.409973</td>\n",
       "      <td>2016</td>\n",
       "      <td>01</td>\n",
       "      <td>01</td>\n",
       "      <td>11</td>\n",
       "      <td>00</td>\n",
       "    </tr>\n",
       "    <tr>\n",
       "      <th>2</th>\n",
       "      <td>ACC Limited</td>\n",
       "      <td>stack1</td>\n",
       "      <td>PM</td>\n",
       "      <td>2016-01-01 11:00:00</td>\n",
       "      <td>7.640000</td>\n",
       "      <td>2016</td>\n",
       "      <td>01</td>\n",
       "      <td>01</td>\n",
       "      <td>11</td>\n",
       "      <td>00</td>\n",
       "    </tr>\n",
       "    <tr>\n",
       "      <th>3</th>\n",
       "      <td>ACC Limited</td>\n",
       "      <td>CEMS-3</td>\n",
       "      <td>PM</td>\n",
       "      <td>2016-01-01 11:00:00</td>\n",
       "      <td>0.500000</td>\n",
       "      <td>2016</td>\n",
       "      <td>01</td>\n",
       "      <td>01</td>\n",
       "      <td>11</td>\n",
       "      <td>00</td>\n",
       "    </tr>\n",
       "    <tr>\n",
       "      <th>4</th>\n",
       "      <td>ACC Limited</td>\n",
       "      <td>CEMS-2</td>\n",
       "      <td>SO2</td>\n",
       "      <td>2016-01-01 11:00:00</td>\n",
       "      <td>44.299999</td>\n",
       "      <td>2016</td>\n",
       "      <td>01</td>\n",
       "      <td>01</td>\n",
       "      <td>11</td>\n",
       "      <td>00</td>\n",
       "    </tr>\n",
       "  </tbody>\n",
       "</table>\n",
       "</div>"
      ],
      "text/plain": [
       "       company station pollutant            date_time    emission  year month  \\\n",
       "0  ACC Limited  stack1       SO2  2016-01-01 11:00:00   16.500000  2016    01   \n",
       "1  ACC Limited  stack1        NO  2016-01-01 11:00:00  641.409973  2016    01   \n",
       "2  ACC Limited  stack1        PM  2016-01-01 11:00:00    7.640000  2016    01   \n",
       "3  ACC Limited  CEMS-3        PM  2016-01-01 11:00:00    0.500000  2016    01   \n",
       "4  ACC Limited  CEMS-2       SO2  2016-01-01 11:00:00   44.299999  2016    01   \n",
       "\n",
       "  date hour minute  \n",
       "0   01   11     00  \n",
       "1   01   11     00  \n",
       "2   01   11     00  \n",
       "3   01   11     00  \n",
       "4   01   11     00  "
      ]
     },
     "execution_count": 21,
     "metadata": {},
     "output_type": "execute_result"
    }
   ],
   "source": [
    "df.head()"
   ]
  },
  {
   "cell_type": "code",
   "execution_count": null,
   "metadata": {
    "collapsed": true
   },
   "outputs": [],
   "source": [
    "df.to_csv(filterfile, index = False)"
   ]
  },
  {
   "cell_type": "code",
   "execution_count": 38,
   "metadata": {
    "collapsed": true
   },
   "outputs": [],
   "source": [
    "del df"
   ]
  },
  {
   "cell_type": "code",
   "execution_count": null,
   "metadata": {
    "collapsed": true
   },
   "outputs": [],
   "source": []
  }
 ],
 "metadata": {
  "kernelspec": {
   "display_name": "Python 3",
   "language": "python",
   "name": "python3"
  },
  "language_info": {
   "codemirror_mode": {
    "name": "ipython",
    "version": 3
   },
   "file_extension": ".py",
   "mimetype": "text/x-python",
   "name": "python",
   "nbconvert_exporter": "python",
   "pygments_lexer": "ipython3",
   "version": "3.5.2"
  }
 },
 "nbformat": 4,
 "nbformat_minor": 2
}
